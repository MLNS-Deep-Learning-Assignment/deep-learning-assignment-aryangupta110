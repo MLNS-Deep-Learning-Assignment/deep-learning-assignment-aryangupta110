{
 "cells": [
  {
   "cell_type": "code",
   "execution_count": 4,
   "metadata": {},
   "outputs": [],
   "source": [
    "import numpy as np\n",
    "import tensorflow as tf\n",
    "from tensorflow.keras.models import Sequential\n",
    "from tensorflow.keras.models import Sequential\n",
    "from tensorflow.keras.layers import Conv2D, MaxPooling2D, Flatten, Dense\n",
    "from sklearn.model_selection import train_test_split\n",
    "import matplotlib.pyplot as plt\n",
    "import os\n",
    "import warnings\n",
    "os.environ['TF_CPP_MIN_LOG_LEVEL'] = '3'\n",
    "warnings.filterwarnings(\"ignore\", category=UserWarning, module=\"keras\")"
   ]
  },
  {
   "cell_type": "code",
   "execution_count": 8,
   "metadata": {},
   "outputs": [],
   "source": [
    "d1 = np.load('data0.npy')\n",
    "l1 = np.load('lab0.npy')\n",
    "d2 = np.load('data1.npy')\n",
    "l2 = np.load('lab1.npy')\n",
    "d3 = np.load('data2.npy')\n",
    "l3 = np.load('lab2.npy')\n",
    "\n",
    "train_data = np.concatenate((d1, d2, d3), axis=0)\n",
    "train_labels = np.concatenate((l1, l2, l3), axis=0)\n",
    "train_data = train_data / 255.0\n",
    "X_train, X_test, y_train, y_test = train_test_split(train_data, train_labels, test_size=0.2, random_state=42)"
   ]
  },
  {
   "cell_type": "code",
   "execution_count": 9,
   "metadata": {},
   "outputs": [
    {
     "name": "stdout",
     "output_type": "stream",
     "text": [
      "\u001b[1m188/188\u001b[0m \u001b[32m━━━━━━━━━━━━━━━━━━━━\u001b[0m\u001b[37m\u001b[0m \u001b[1m2s\u001b[0m 11ms/step - loss: 348.4449 - mean_absolute_error: 17.7915\n",
      "\u001b[1m750/750\u001b[0m \u001b[32m━━━━━━━━━━━━━━━━━━━━\u001b[0m\u001b[37m\u001b[0m \u001b[1m7s\u001b[0m 10ms/step - loss: 348.5072 - mean_absolute_error: 17.7433\n",
      "Training:\n",
      "Epoch 1/50\n",
      "\u001b[1m47/47\u001b[0m \u001b[32m━━━━━━━━━━━━━━━━━━━━\u001b[0m\u001b[37m\u001b[0m \u001b[1m17s\u001b[0m 327ms/step - loss: 91.3180 - mean_absolute_error: 7.4666 - val_loss: 34.4315 - val_mean_absolute_error: 4.7293\n",
      "Epoch 2/50\n",
      "\u001b[1m47/47\u001b[0m \u001b[32m━━━━━━━━━━━━━━━━━━━━\u001b[0m\u001b[37m\u001b[0m \u001b[1m15s\u001b[0m 315ms/step - loss: 33.1223 - mean_absolute_error: 4.6294 - val_loss: 31.8629 - val_mean_absolute_error: 4.5412\n",
      "Epoch 3/50\n",
      "\u001b[1m47/47\u001b[0m \u001b[32m━━━━━━━━━━━━━━━━━━━━\u001b[0m\u001b[37m\u001b[0m \u001b[1m16s\u001b[0m 331ms/step - loss: 30.7004 - mean_absolute_error: 4.4588 - val_loss: 29.7125 - val_mean_absolute_error: 4.3855\n",
      "Epoch 4/50\n",
      "\u001b[1m47/47\u001b[0m \u001b[32m━━━━━━━━━━━━━━━━━━━━\u001b[0m\u001b[37m\u001b[0m \u001b[1m17s\u001b[0m 355ms/step - loss: 28.2151 - mean_absolute_error: 4.2619 - val_loss: 27.8302 - val_mean_absolute_error: 4.2545\n",
      "Epoch 5/50\n",
      "\u001b[1m47/47\u001b[0m \u001b[32m━━━━━━━━━━━━━━━━━━━━\u001b[0m\u001b[37m\u001b[0m \u001b[1m14s\u001b[0m 304ms/step - loss: 25.6550 - mean_absolute_error: 4.0848 - val_loss: 26.0237 - val_mean_absolute_error: 4.1138\n",
      "Epoch 6/50\n",
      "\u001b[1m47/47\u001b[0m \u001b[32m━━━━━━━━━━━━━━━━━━━━\u001b[0m\u001b[37m\u001b[0m \u001b[1m14s\u001b[0m 292ms/step - loss: 23.8394 - mean_absolute_error: 3.9274 - val_loss: 25.2602 - val_mean_absolute_error: 4.0430\n",
      "Epoch 7/50\n",
      "\u001b[1m47/47\u001b[0m \u001b[32m━━━━━━━━━━━━━━━━━━━━\u001b[0m\u001b[37m\u001b[0m \u001b[1m16s\u001b[0m 339ms/step - loss: 22.7158 - mean_absolute_error: 3.8306 - val_loss: 24.5995 - val_mean_absolute_error: 3.9980\n",
      "Epoch 8/50\n",
      "\u001b[1m47/47\u001b[0m \u001b[32m━━━━━━━━━━━━━━━━━━━━\u001b[0m\u001b[37m\u001b[0m \u001b[1m19s\u001b[0m 303ms/step - loss: 21.5070 - mean_absolute_error: 3.7240 - val_loss: 24.2321 - val_mean_absolute_error: 3.9629\n",
      "Epoch 9/50\n",
      "\u001b[1m47/47\u001b[0m \u001b[32m━━━━━━━━━━━━━━━━━━━━\u001b[0m\u001b[37m\u001b[0m \u001b[1m14s\u001b[0m 292ms/step - loss: 20.7915 - mean_absolute_error: 3.6584 - val_loss: 24.3784 - val_mean_absolute_error: 3.9805\n",
      "Epoch 10/50\n",
      "\u001b[1m47/47\u001b[0m \u001b[32m━━━━━━━━━━━━━━━━━━━━\u001b[0m\u001b[37m\u001b[0m \u001b[1m14s\u001b[0m 294ms/step - loss: 20.5846 - mean_absolute_error: 3.6349 - val_loss: 23.6032 - val_mean_absolute_error: 3.9144\n",
      "Epoch 11/50\n",
      "\u001b[1m47/47\u001b[0m \u001b[32m━━━━━━━━━━━━━━━━━━━━\u001b[0m\u001b[37m\u001b[0m \u001b[1m14s\u001b[0m 306ms/step - loss: 19.7023 - mean_absolute_error: 3.5604 - val_loss: 23.7077 - val_mean_absolute_error: 3.9136\n",
      "Epoch 12/50\n",
      "\u001b[1m47/47\u001b[0m \u001b[32m━━━━━━━━━━━━━━━━━━━━\u001b[0m\u001b[37m\u001b[0m \u001b[1m15s\u001b[0m 317ms/step - loss: 19.4299 - mean_absolute_error: 3.5357 - val_loss: 23.5440 - val_mean_absolute_error: 3.8989\n",
      "Epoch 13/50\n",
      "\u001b[1m47/47\u001b[0m \u001b[32m━━━━━━━━━━━━━━━━━━━━\u001b[0m\u001b[37m\u001b[0m \u001b[1m15s\u001b[0m 311ms/step - loss: 18.8015 - mean_absolute_error: 3.4682 - val_loss: 23.5092 - val_mean_absolute_error: 3.8951\n",
      "Epoch 14/50\n",
      "\u001b[1m47/47\u001b[0m \u001b[32m━━━━━━━━━━━━━━━━━━━━\u001b[0m\u001b[37m\u001b[0m \u001b[1m14s\u001b[0m 304ms/step - loss: 18.1160 - mean_absolute_error: 3.3931 - val_loss: 23.3369 - val_mean_absolute_error: 3.8842\n",
      "Epoch 15/50\n",
      "\u001b[1m47/47\u001b[0m \u001b[32m━━━━━━━━━━━━━━━━━━━━\u001b[0m\u001b[37m\u001b[0m \u001b[1m15s\u001b[0m 317ms/step - loss: 18.1367 - mean_absolute_error: 3.3942 - val_loss: 23.2267 - val_mean_absolute_error: 3.8663\n",
      "Epoch 16/50\n",
      "\u001b[1m47/47\u001b[0m \u001b[32m━━━━━━━━━━━━━━━━━━━━\u001b[0m\u001b[37m\u001b[0m \u001b[1m15s\u001b[0m 315ms/step - loss: 17.5517 - mean_absolute_error: 3.3484 - val_loss: 23.4630 - val_mean_absolute_error: 3.8836\n",
      "Epoch 17/50\n",
      "\u001b[1m47/47\u001b[0m \u001b[32m━━━━━━━━━━━━━━━━━━━━\u001b[0m\u001b[37m\u001b[0m \u001b[1m16s\u001b[0m 340ms/step - loss: 17.1315 - mean_absolute_error: 3.2966 - val_loss: 23.2184 - val_mean_absolute_error: 3.8672\n",
      "Epoch 18/50\n",
      "\u001b[1m47/47\u001b[0m \u001b[32m━━━━━━━━━━━━━━━━━━━━\u001b[0m\u001b[37m\u001b[0m \u001b[1m16s\u001b[0m 340ms/step - loss: 16.5044 - mean_absolute_error: 3.2492 - val_loss: 23.3550 - val_mean_absolute_error: 3.8800\n",
      "Epoch 19/50\n",
      "\u001b[1m47/47\u001b[0m \u001b[32m━━━━━━━━━━━━━━━━━━━━\u001b[0m\u001b[37m\u001b[0m \u001b[1m15s\u001b[0m 323ms/step - loss: 16.0202 - mean_absolute_error: 3.1964 - val_loss: 23.5580 - val_mean_absolute_error: 3.8865\n",
      "Epoch 20/50\n",
      "\u001b[1m47/47\u001b[0m \u001b[32m━━━━━━━━━━━━━━━━━━━━\u001b[0m\u001b[37m\u001b[0m \u001b[1m16s\u001b[0m 335ms/step - loss: 15.7829 - mean_absolute_error: 3.1661 - val_loss: 23.3434 - val_mean_absolute_error: 3.8689\n",
      "Epoch 21/50\n",
      "\u001b[1m47/47\u001b[0m \u001b[32m━━━━━━━━━━━━━━━━━━━━\u001b[0m\u001b[37m\u001b[0m \u001b[1m16s\u001b[0m 340ms/step - loss: 14.8585 - mean_absolute_error: 3.0692 - val_loss: 23.2240 - val_mean_absolute_error: 3.8581\n",
      "Epoch 22/50\n",
      "\u001b[1m47/47\u001b[0m \u001b[32m━━━━━━━━━━━━━━━━━━━━\u001b[0m\u001b[37m\u001b[0m \u001b[1m16s\u001b[0m 345ms/step - loss: 14.6759 - mean_absolute_error: 3.0555 - val_loss: 23.4243 - val_mean_absolute_error: 3.8658\n",
      "Epoch 23/50\n",
      "\u001b[1m47/47\u001b[0m \u001b[32m━━━━━━━━━━━━━━━━━━━━\u001b[0m\u001b[37m\u001b[0m \u001b[1m14s\u001b[0m 300ms/step - loss: 14.5095 - mean_absolute_error: 3.0467 - val_loss: 23.0968 - val_mean_absolute_error: 3.8401\n",
      "Epoch 24/50\n",
      "\u001b[1m47/47\u001b[0m \u001b[32m━━━━━━━━━━━━━━━━━━━━\u001b[0m\u001b[37m\u001b[0m \u001b[1m14s\u001b[0m 288ms/step - loss: 14.0306 - mean_absolute_error: 2.9918 - val_loss: 23.5704 - val_mean_absolute_error: 3.8886\n",
      "Epoch 25/50\n",
      "\u001b[1m47/47\u001b[0m \u001b[32m━━━━━━━━━━━━━━━━━━━━\u001b[0m\u001b[37m\u001b[0m \u001b[1m15s\u001b[0m 318ms/step - loss: 13.3608 - mean_absolute_error: 2.9106 - val_loss: 23.2818 - val_mean_absolute_error: 3.8617\n",
      "Epoch 26/50\n",
      "\u001b[1m47/47\u001b[0m \u001b[32m━━━━━━━━━━━━━━━━━━━━\u001b[0m\u001b[37m\u001b[0m \u001b[1m14s\u001b[0m 295ms/step - loss: 12.9177 - mean_absolute_error: 2.8673 - val_loss: 23.1732 - val_mean_absolute_error: 3.8476\n",
      "Epoch 27/50\n",
      "\u001b[1m47/47\u001b[0m \u001b[32m━━━━━━━━━━━━━━━━━━━━\u001b[0m\u001b[37m\u001b[0m \u001b[1m14s\u001b[0m 302ms/step - loss: 12.9016 - mean_absolute_error: 2.8615 - val_loss: 23.4972 - val_mean_absolute_error: 3.8643\n",
      "Epoch 28/50\n",
      "\u001b[1m47/47\u001b[0m \u001b[32m━━━━━━━━━━━━━━━━━━━━\u001b[0m\u001b[37m\u001b[0m \u001b[1m14s\u001b[0m 306ms/step - loss: 12.1204 - mean_absolute_error: 2.7801 - val_loss: 23.7836 - val_mean_absolute_error: 3.8998\n",
      "Epoch 29/50\n",
      "\u001b[1m47/47\u001b[0m \u001b[32m━━━━━━━━━━━━━━━━━━━━\u001b[0m\u001b[37m\u001b[0m \u001b[1m15s\u001b[0m 320ms/step - loss: 11.8450 - mean_absolute_error: 2.7451 - val_loss: 24.6148 - val_mean_absolute_error: 3.9626\n",
      "Epoch 30/50\n",
      "\u001b[1m47/47\u001b[0m \u001b[32m━━━━━━━━━━━━━━━━━━━━\u001b[0m\u001b[37m\u001b[0m \u001b[1m16s\u001b[0m 334ms/step - loss: 11.7335 - mean_absolute_error: 2.7294 - val_loss: 23.4600 - val_mean_absolute_error: 3.8678\n",
      "Epoch 31/50\n",
      "\u001b[1m47/47\u001b[0m \u001b[32m━━━━━━━━━━━━━━━━━━━━\u001b[0m\u001b[37m\u001b[0m \u001b[1m17s\u001b[0m 362ms/step - loss: 11.4165 - mean_absolute_error: 2.6871 - val_loss: 23.6623 - val_mean_absolute_error: 3.8794\n",
      "Epoch 32/50\n",
      "\u001b[1m47/47\u001b[0m \u001b[32m━━━━━━━━━━━━━━━━━━━━\u001b[0m\u001b[37m\u001b[0m \u001b[1m14s\u001b[0m 302ms/step - loss: 10.7689 - mean_absolute_error: 2.6084 - val_loss: 23.6082 - val_mean_absolute_error: 3.8748\n",
      "Epoch 33/50\n",
      "\u001b[1m47/47\u001b[0m \u001b[32m━━━━━━━━━━━━━━━━━━━━\u001b[0m\u001b[37m\u001b[0m \u001b[1m14s\u001b[0m 295ms/step - loss: 10.2239 - mean_absolute_error: 2.5379 - val_loss: 23.8750 - val_mean_absolute_error: 3.9049\n",
      "Epoch 34/50\n",
      "\u001b[1m47/47\u001b[0m \u001b[32m━━━━━━━━━━━━━━━━━━━━\u001b[0m\u001b[37m\u001b[0m \u001b[1m13s\u001b[0m 286ms/step - loss: 10.0359 - mean_absolute_error: 2.5210 - val_loss: 23.8745 - val_mean_absolute_error: 3.8981\n",
      "Epoch 35/50\n",
      "\u001b[1m47/47\u001b[0m \u001b[32m━━━━━━━━━━━━━━━━━━━━\u001b[0m\u001b[37m\u001b[0m \u001b[1m13s\u001b[0m 283ms/step - loss: 9.5505 - mean_absolute_error: 2.4465 - val_loss: 24.0341 - val_mean_absolute_error: 3.9131\n",
      "Epoch 36/50\n",
      "\u001b[1m47/47\u001b[0m \u001b[32m━━━━━━━━━━━━━━━━━━━━\u001b[0m\u001b[37m\u001b[0m \u001b[1m14s\u001b[0m 288ms/step - loss: 9.3264 - mean_absolute_error: 2.4239 - val_loss: 24.1357 - val_mean_absolute_error: 3.9107\n",
      "Epoch 37/50\n",
      "\u001b[1m47/47\u001b[0m \u001b[32m━━━━━━━━━━━━━━━━━━━━\u001b[0m\u001b[37m\u001b[0m \u001b[1m15s\u001b[0m 314ms/step - loss: 8.9896 - mean_absolute_error: 2.3804 - val_loss: 24.1872 - val_mean_absolute_error: 3.9256\n",
      "Epoch 38/50\n",
      "\u001b[1m47/47\u001b[0m \u001b[32m━━━━━━━━━━━━━━━━━━━━\u001b[0m\u001b[37m\u001b[0m \u001b[1m13s\u001b[0m 281ms/step - loss: 8.3310 - mean_absolute_error: 2.2821 - val_loss: 24.2038 - val_mean_absolute_error: 3.9237\n",
      "Epoch 39/50\n",
      "\u001b[1m47/47\u001b[0m \u001b[32m━━━━━━━━━━━━━━━━━━━━\u001b[0m\u001b[37m\u001b[0m \u001b[1m14s\u001b[0m 302ms/step - loss: 8.2631 - mean_absolute_error: 2.2824 - val_loss: 24.4608 - val_mean_absolute_error: 3.9437\n",
      "Epoch 40/50\n",
      "\u001b[1m47/47\u001b[0m \u001b[32m━━━━━━━━━━━━━━━━━━━━\u001b[0m\u001b[37m\u001b[0m \u001b[1m16s\u001b[0m 345ms/step - loss: 8.0860 - mean_absolute_error: 2.2578 - val_loss: 24.2738 - val_mean_absolute_error: 3.9228\n",
      "Epoch 41/50\n",
      "\u001b[1m47/47\u001b[0m \u001b[32m━━━━━━━━━━━━━━━━━━━━\u001b[0m\u001b[37m\u001b[0m \u001b[1m17s\u001b[0m 365ms/step - loss: 7.3854 - mean_absolute_error: 2.1566 - val_loss: 24.8129 - val_mean_absolute_error: 3.9649\n",
      "Epoch 42/50\n",
      "\u001b[1m47/47\u001b[0m \u001b[32m━━━━━━━━━━━━━━━━━━━━\u001b[0m\u001b[37m\u001b[0m \u001b[1m16s\u001b[0m 335ms/step - loss: 7.0843 - mean_absolute_error: 2.1125 - val_loss: 25.0175 - val_mean_absolute_error: 3.9820\n",
      "Epoch 43/50\n",
      "\u001b[1m47/47\u001b[0m \u001b[32m━━━━━━━━━━━━━━━━━━━━\u001b[0m\u001b[37m\u001b[0m \u001b[1m14s\u001b[0m 303ms/step - loss: 6.6524 - mean_absolute_error: 2.0432 - val_loss: 25.3027 - val_mean_absolute_error: 4.0055\n",
      "Epoch 44/50\n",
      "\u001b[1m47/47\u001b[0m \u001b[32m━━━━━━━━━━━━━━━━━━━━\u001b[0m\u001b[37m\u001b[0m \u001b[1m14s\u001b[0m 303ms/step - loss: 6.5910 - mean_absolute_error: 2.0344 - val_loss: 24.8825 - val_mean_absolute_error: 3.9773\n",
      "Epoch 45/50\n",
      "\u001b[1m47/47\u001b[0m \u001b[32m━━━━━━━━━━━━━━━━━━━━\u001b[0m\u001b[37m\u001b[0m \u001b[1m14s\u001b[0m 297ms/step - loss: 6.0946 - mean_absolute_error: 1.9561 - val_loss: 25.1553 - val_mean_absolute_error: 3.9963\n",
      "Epoch 46/50\n",
      "\u001b[1m47/47\u001b[0m \u001b[32m━━━━━━━━━━━━━━━━━━━━\u001b[0m\u001b[37m\u001b[0m \u001b[1m14s\u001b[0m 298ms/step - loss: 6.0087 - mean_absolute_error: 1.9405 - val_loss: 24.9600 - val_mean_absolute_error: 3.9737\n",
      "Epoch 47/50\n",
      "\u001b[1m47/47\u001b[0m \u001b[32m━━━━━━━━━━━━━━━━━━━━\u001b[0m\u001b[37m\u001b[0m \u001b[1m14s\u001b[0m 297ms/step - loss: 5.5052 - mean_absolute_error: 1.8493 - val_loss: 25.0715 - val_mean_absolute_error: 3.9873\n",
      "Epoch 48/50\n",
      "\u001b[1m47/47\u001b[0m \u001b[32m━━━━━━━━━━━━━━━━━━━━\u001b[0m\u001b[37m\u001b[0m \u001b[1m15s\u001b[0m 309ms/step - loss: 5.5144 - mean_absolute_error: 1.8525 - val_loss: 25.2935 - val_mean_absolute_error: 3.9997\n",
      "Epoch 49/50\n",
      "\u001b[1m47/47\u001b[0m \u001b[32m━━━━━━━━━━━━━━━━━━━━\u001b[0m\u001b[37m\u001b[0m \u001b[1m13s\u001b[0m 279ms/step - loss: 5.1495 - mean_absolute_error: 1.7897 - val_loss: 25.7574 - val_mean_absolute_error: 4.0343\n",
      "Epoch 50/50\n",
      "\u001b[1m47/47\u001b[0m \u001b[32m━━━━━━━━━━━━━━━━━━━━\u001b[0m\u001b[37m\u001b[0m \u001b[1m10s\u001b[0m 204ms/step - loss: 4.8368 - mean_absolute_error: 1.7363 - val_loss: 25.1021 - val_mean_absolute_error: 3.9895\n"
     ]
    },
    {
     "name": "stderr",
     "output_type": "stream",
     "text": [
      "WARNING:absl:You are saving your model as an HDF5 file via `model.save()` or `keras.saving.save_model(model)`. This file format is considered legacy. We recommend using instead the native Keras format, e.g. `model.save('my_model.keras')` or `keras.saving.save_model(model, 'my_model.keras')`. \n"
     ]
    },
    {
     "name": "stdout",
     "output_type": "stream",
     "text": [
      "Saving model\n"
     ]
    },
    {
     "data": {
      "image/png": "[encoded data removed]",
      "text/plain": [
       "<Figure size 640x480 with 1 Axes>"
      ]
     },
     "metadata": {},
     "output_type": "display_data"
    }
   ],
   "source": [
    "model = Sequential([Conv2D(32, (3, 3), activation='relu', input_shape=(train_data.shape[1], train_data.shape[2], 1)), MaxPooling2D((2, 2)), Flatten(), Dense(128, activation='relu'), Dense(1) ])\n",
    "\n",
    "model.compile(optimizer='adam', loss='mean_squared_error', metrics=['mean_absolute_error'])\n",
    "val_loss, val_mae = model.evaluate(X_test, y_test)\n",
    "model.compile(optimizer='adam', loss='mean_squared_error', metrics=['mean_absolute_error'])\n",
    "train_loss, train_mae = model.evaluate(X_train, y_train)\n",
    "\n",
    "print(\"Training:\")\n",
    "history = model.fit(X_train, y_train, validation_data=(X_test, y_test), epochs=50, batch_size=512)\n",
    "\n",
    "print(\"Saving model\")\n",
    "model.save('preliminary_cnn_model.h5')\n",
    "\n",
    "history.history['val_loss'].insert(0, val_loss)\n",
    "history.history['loss'].insert(0, train_loss)\n",
    "plt.plot(history.history['loss'])\n",
    "plt.plot(history.history['val_loss'])\n",
    "plt.title('Model loss')\n",
    "plt.ylabel('Loss')\n",
    "plt.xlabel('Epoch')\n",
    "plt.legend(['Train', 'Val'], loc='upper right')\n",
    "plt.show()"
   ]
  },
  {
   "cell_type": "code",
   "execution_count": null,
   "metadata": {},
   "outputs": [],
   "source": []
  },
  {
   "cell_type": "code",
   "execution_count": null,
   "metadata": {},
   "outputs": [],
   "source": []
  }
 ],
 "metadata": {
  "kernelspec": {
   "display_name": "base",
   "language": "python",
   "name": "python3"
  },
  "language_info": {
   "codemirror_mode": {
    "name": "ipython",
    "version": 3
   },
   "file_extension": ".py",
   "mimetype": "text/x-python",
   "name": "python",
   "nbconvert_exporter": "python",
   "pygments_lexer": "ipython3",
   "version": "3.11.8"
  }
 },
 "nbformat": 4,
 "nbformat_minor": 2
}
